{
 "cells": [
  {
   "cell_type": "code",
   "execution_count": null,
   "id": "9a5d7372",
   "metadata": {},
   "outputs": [],
   "source": [
    "import itertools\n",
    "import numpy as np\n",
    "import matplotlib.pyplot as plt\n",
    "\n",
    "\n",
    "np.random.seed(1)\n",
    "\n",
    "def printSample(x1, x2, t, y=None):\n",
    "    x1 = ''.join([str(int(d)) for d in x1])\n",
    "    x1_r = int(''.join(reversed(x1)), 2)\n",
    "    x2 = ''.join([str(int(d)) for d in x2])\n",
    "    x2_r = int(''.join(reversed(x2)), 2)\n",
    "    t = ''.join([str(int(d[0])) for d in t])\n",
    "    t_r = int(''.join(reversed(t)), 2)\n",
    "    if y is not None:\n",
    "        y = ''.join([str(int(d[0])) for d in y])\n",
    "    print(f'x1: {x1:s}   {x1_r:4d}')\n",
    "    print(f'x2: + {x2:s}   {x2_r:4d}')\n",
    "    print(f'      -------   ----')\n",
    "    print(f't:  = {t:s}   {t_r:4d}')\n",
    "    if y is not None:\n",
    "        print(f'y:  = {y:s}')\n",
    "\n",
    "def create_sum_dataset(nb_samples, sequence_len):\n",
    "    max_int = 2**(sequence_len-1)\n",
    "    format_str = '{:0' + str(sequence_len) + 'b}'\n",
    "    X = np.zeros((nb_samples, sequence_len, 2))\n",
    "    T = np.zeros((nb_samples, sequence_len, 1))\n",
    "    for i in range(nb_samples):\n",
    "        nb1 = np.random.randint(0, max_int)\n",
    "        nb2 = np.random.randint(0, max_int)\n",
    "        X[i,:,0] = list(reversed([int(b) for b in format_str.format(nb1)]))\n",
    "        X[i,:,1] = list(reversed([int(b) for b in format_str.format(nb2)]))\n",
    "        T[i,:,0] = list(reversed([int(b) for b in format_str.format(nb1 + nb2)]))\n",
    "    return X, T\n",
    "\n",
    "def create_sub_dataset(nb_samples, sequence_len):\n",
    "    max_int = 2**(sequence_len-1)\n",
    "    format_str = '{:0' + str(sequence_len) + 'b}'\n",
    "    X = np.zeros((nb_samples, sequence_len, 2))\n",
    "    T = np.zeros((nb_samples, sequence_len, 1))\n",
    "    for i in range(nb_samples):\n",
    "        nb1 = np.random.randint(0, max_int)\n",
    "        nb2 = np.random.randint(0, max_int)\n",
    "        nb1, nb2 = max(nb1, nb2), min(nb1, nb2)\n",
    "        X[i,:,0] = list(reversed([int(b) for b in format_str.format(nb1)]))\n",
    "        X[i,:,1] = list(reversed([int(b) for b in format_str.format(nb2)]))\n",
    "        T[i,:,0] = list(reversed([int(b) for b in format_str.format(nb1 - nb2)]))\n",
    "    return X, T"
   ]
  },
  {
   "cell_type": "code",
   "execution_count": 3,
   "id": "1445db4b",
   "metadata": {},
   "outputs": [
    {
     "name": "stdout",
     "output_type": "stream",
     "text": [
      "x1: 101001000010   1061\n",
      "x2: + 110101110000    235\n",
      "      -------   ----\n",
      "t:  = 000010001010   1296\n"
     ]
    }
   ],
   "source": [
    "sequence_len = 12\n",
    "nb_train = 2000\n",
    "X_train, T_train = create_sum_dataset(nb_train, sequence_len)\n",
    "printSample(X_train[0,:,0], X_train[0,:,1], T_train[0,:,:])"
   ]
  }
 ],
 "metadata": {
  "kernelspec": {
   "display_name": "Python 3",
   "language": "python",
   "name": "python3"
  },
  "language_info": {
   "codemirror_mode": {
    "name": "ipython",
    "version": 3
   },
   "file_extension": ".py",
   "mimetype": "text/x-python",
   "name": "python",
   "nbconvert_exporter": "python",
   "pygments_lexer": "ipython3",
   "version": "3.12.8"
  }
 },
 "nbformat": 4,
 "nbformat_minor": 5
}
