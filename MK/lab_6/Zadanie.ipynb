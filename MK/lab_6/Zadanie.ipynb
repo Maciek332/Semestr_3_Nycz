{
 "cells": [
  {
   "cell_type": "code",
   "execution_count": 2,
   "id": "3516e912",
   "metadata": {},
   "outputs": [
    {
     "name": "stdout",
     "output_type": "stream",
     "text": [
      "X[0]: [0.6 0.8 0.4 0.8 0.8 0.2 0.4 0.4 0.4 0.8 0.6 0.4 1.  0.8 0.2 0.6 1.  1.\n",
      " 0.2 0.6]\n",
      "t[0]: 12.0\n",
      "\n",
      "X[1]: [0.8 0.  0.6 0.2 1.  0.8 0.6 0.  0.  0.4 0.4 0.2 0.6 0.6 1.  1.  1.  0.4\n",
      " 0.6 0.6]\n",
      "t[1]: 10.799999999999999\n",
      "\n",
      "X[2]: [0.  0.4 0.8 0.4 0.8 0.  0.2 0.6 0.  0.6 1.  0.2 0.2 0.  0.2 0.8 0.2 0.6\n",
      " 0.6 0.6]\n",
      "t[2]: 8.2\n",
      "\n",
      "X[3]: [0.6 0.8 0.4 1.  0.  0.6 0.2 0.6 0.2 1.  1.  1.  0.2 0.6 1.  0.8 0.2 0.2\n",
      " 0.6 0.2]\n",
      "t[3]: 11.199999999999998\n",
      "\n",
      "X[4]: [0.2 1.  0.6 1.  1.  0.6 0.  1.  0.8 0.8 0.2 0.8 0.2 0.  0.6 0.6 0.6 0.8\n",
      " 0.  0.8]\n",
      "t[4]: 11.600000000000001\n",
      "\n"
     ]
    }
   ],
   "source": [
    "import numpy as np\n",
    "\n",
    "n_sequences = 30\n",
    "sequence_length = 20\n",
    "possible_values = np.array([0.0, 0.2, 0.4, 0.6, 0.8, 1.0])\n",
    "\n",
    "np.random.seed(42)\n",
    "X = np.random.choice(possible_values, size=(n_sequences, sequence_length))\n",
    "\n",
    "t = X.sum(axis=1)\n",
    "\n",
    "for i in range(5):\n",
    "    print(f\"X[{i}]: {X[i]}\")\n",
    "    print(f\"t[{i}]: {t[i]}\\n\")\n"
   ]
  }
 ],
 "metadata": {
  "kernelspec": {
   "display_name": "Python 3",
   "language": "python",
   "name": "python3"
  },
  "language_info": {
   "codemirror_mode": {
    "name": "ipython",
    "version": 3
   },
   "file_extension": ".py",
   "mimetype": "text/x-python",
   "name": "python",
   "nbconvert_exporter": "python",
   "pygments_lexer": "ipython3",
   "version": "3.13.2"
  }
 },
 "nbformat": 4,
 "nbformat_minor": 5
}
