{
 "cells": [
  {
   "cell_type": "markdown",
   "id": "a12b48e1",
   "metadata": {},
   "source": [
    "# 1. Porównanie dokładności: Random Forest, XGBoost, Stacking"
   ]
  },
  {
   "cell_type": "code",
   "execution_count": 3,
   "id": "315d16cd",
   "metadata": {},
   "outputs": [
    {
     "name": "stderr",
     "output_type": "stream",
     "text": [
      "c:\\Users\\szymo\\AppData\\Local\\Programs\\Python\\Python312\\Lib\\site-packages\\xgboost\\training.py:183: UserWarning: [19:39:28] WARNING: C:\\actions-runner\\_work\\xgboost\\xgboost\\src\\learner.cc:738: \n",
      "Parameters: { \"use_label_encoder\" } are not used.\n",
      "\n",
      "  bst.update(dtrain, iteration=i, fobj=obj)\n"
     ]
    },
    {
     "name": "stdout",
     "output_type": "stream",
     "text": [
      "Dokładności:\n",
      "Random Forest: 0.9649\n",
      "XGBoost: 0.9561\n",
      "Stacking: 0.9737\n"
     ]
    }
   ],
   "source": [
    "from sklearn.datasets import load_breast_cancer\n",
    "from sklearn.model_selection import train_test_split\n",
    "from sklearn.metrics import accuracy_score\n",
    "from sklearn.ensemble import RandomForestClassifier, StackingClassifier\n",
    "from sklearn.linear_model import LogisticRegression\n",
    "from sklearn.svm import SVC\n",
    "from xgboost import XGBClassifier\n",
    "\n",
    "# Dane\n",
    "X, y = load_breast_cancer(return_X_y=True)\n",
    "X_train, X_test, y_train, y_test = train_test_split(X, y, test_size=0.2, random_state=42)\n",
    "\n",
    "# Random Forest\n",
    "rf = RandomForestClassifier(n_estimators=100, random_state=42)\n",
    "rf.fit(X_train, y_train)\n",
    "acc_rf = accuracy_score(y_test, rf.predict(X_test))\n",
    "\n",
    "# XGBoost\n",
    "xgb = XGBClassifier(use_label_encoder=False, eval_metric='logloss', random_state=42)\n",
    "xgb.fit(X_train, y_train)\n",
    "acc_xgb = accuracy_score(y_test, xgb.predict(X_test))\n",
    "\n",
    "# Stacking\n",
    "estimators = [\n",
    "    ('rf', RandomForestClassifier(n_estimators=100, random_state=42)),\n",
    "    ('svc', SVC(probability=True))\n",
    "]\n",
    "stack = StackingClassifier(estimators=estimators, final_estimator=LogisticRegression())\n",
    "stack.fit(X_train, y_train)\n",
    "acc_stack = accuracy_score(y_test, stack.predict(X_test))\n",
    "\n",
    "print(\"Dokładności:\")\n",
    "print(f\"Random Forest: {acc_rf:.4f}\")\n",
    "print(f\"XGBoost: {acc_xgb:.4f}\")\n",
    "print(f\"Stacking: {acc_stack:.4f}\")\n"
   ]
  },
  {
   "cell_type": "markdown",
   "id": "7d34c873",
   "metadata": {},
   "source": [
    "# 2. Tuning hiperparametrów XGBoost"
   ]
  },
  {
   "cell_type": "code",
   "execution_count": 4,
   "id": "fd261b79",
   "metadata": {},
   "outputs": [
    {
     "name": "stdout",
     "output_type": "stream",
     "text": [
      "Fitting 3 folds for each of 8 candidates, totalling 24 fits\n",
      "Najlepsze parametry: {'learning_rate': 0.1, 'max_depth': 3, 'n_estimators': 100}\n",
      "Dokładność najlepszego modelu XGBoost: 0.956140350877193\n"
     ]
    },
    {
     "name": "stderr",
     "output_type": "stream",
     "text": [
      "c:\\Users\\szymo\\AppData\\Local\\Programs\\Python\\Python312\\Lib\\site-packages\\xgboost\\training.py:183: UserWarning: [19:39:30] WARNING: C:\\actions-runner\\_work\\xgboost\\xgboost\\src\\learner.cc:738: \n",
      "Parameters: { \"use_label_encoder\" } are not used.\n",
      "\n",
      "  bst.update(dtrain, iteration=i, fobj=obj)\n"
     ]
    }
   ],
   "source": [
    "from sklearn.model_selection import GridSearchCV\n",
    "\n",
    "params = {\n",
    "    'n_estimators': [50, 100],\n",
    "    'max_depth': [3, 5],\n",
    "    'learning_rate': [0.05, 0.1],\n",
    "}\n",
    "\n",
    "grid = GridSearchCV(\n",
    "    XGBClassifier(use_label_encoder=False, eval_metric='logloss', random_state=42),\n",
    "    params,\n",
    "    cv=3,\n",
    "    scoring='accuracy',\n",
    "    n_jobs=-1,\n",
    "    verbose=1\n",
    ")\n",
    "grid.fit(X_train, y_train)\n",
    "\n",
    "best_xgb = grid.best_estimator_\n",
    "acc_best_xgb = accuracy_score(y_test, best_xgb.predict(X_test))\n",
    "\n",
    "print(\"Najlepsze parametry:\", grid.best_params_)\n",
    "print(\"Dokładność najlepszego modelu XGBoost:\", acc_best_xgb)\n"
   ]
  },
  {
   "cell_type": "markdown",
   "id": "0346dee9",
   "metadata": {},
   "source": [
    "# 3. Dodanie nowego modelu do stacking (np. KNN)"
   ]
  },
  {
   "cell_type": "code",
   "execution_count": 5,
   "id": "c4918e8c",
   "metadata": {},
   "outputs": [
    {
     "name": "stdout",
     "output_type": "stream",
     "text": [
      "Stacking (z KNN): 0.9736842105263158\n"
     ]
    }
   ],
   "source": [
    "from sklearn.neighbors import KNeighborsClassifier\n",
    "\n",
    "estimators_knn = [\n",
    "    ('rf', RandomForestClassifier(n_estimators=100, random_state=42)),\n",
    "    ('knn', KNeighborsClassifier(n_neighbors=5))\n",
    "]\n",
    "\n",
    "stack_knn = StackingClassifier(estimators=estimators_knn, final_estimator=LogisticRegression())\n",
    "stack_knn.fit(X_train, y_train)\n",
    "acc_stack_knn = accuracy_score(y_test, stack_knn.predict(X_test))\n",
    "\n",
    "print(\"Stacking (z KNN):\", acc_stack_knn)\n"
   ]
  },
  {
   "cell_type": "markdown",
   "id": "94a0dfdf",
   "metadata": {},
   "source": [
    "# 4. Test na innych zbiorach (Wine, Iris)"
   ]
  },
  {
   "cell_type": "code",
   "execution_count": 6,
   "id": "4575fa16",
   "metadata": {},
   "outputs": [
    {
     "name": "stdout",
     "output_type": "stream",
     "text": [
      "Dokładność na Wine (Random Forest): 1.0000\n",
      "Dokładność na Iris (XGBoost): 1.0000\n"
     ]
    },
    {
     "name": "stderr",
     "output_type": "stream",
     "text": [
      "c:\\Users\\szymo\\AppData\\Local\\Programs\\Python\\Python312\\Lib\\site-packages\\xgboost\\training.py:183: UserWarning: [19:39:33] WARNING: C:\\actions-runner\\_work\\xgboost\\xgboost\\src\\learner.cc:738: \n",
      "Parameters: { \"use_label_encoder\" } are not used.\n",
      "\n",
      "  bst.update(dtrain, iteration=i, fobj=obj)\n"
     ]
    }
   ],
   "source": [
    "from sklearn.datasets import load_wine, load_iris\n",
    "\n",
    "# Zbiór Wine\n",
    "Xw, yw = load_wine(return_X_y=True)\n",
    "Xw_train, Xw_test, yw_train, yw_test = train_test_split(Xw, yw, test_size=0.2, random_state=42)\n",
    "\n",
    "model_wine = RandomForestClassifier(n_estimators=100, random_state=42)\n",
    "model_wine.fit(Xw_train, yw_train)\n",
    "acc_wine = accuracy_score(yw_test, model_wine.predict(Xw_test))\n",
    "\n",
    "# Zbiór Iris\n",
    "Xi, yi = load_iris(return_X_y=True)\n",
    "Xi_train, Xi_test, yi_train, yi_test = train_test_split(Xi, yi, test_size=0.2, random_state=42)\n",
    "\n",
    "model_iris = XGBClassifier(use_label_encoder=False, eval_metric='mlogloss', random_state=42)\n",
    "model_iris.fit(Xi_train, yi_train)\n",
    "acc_iris = accuracy_score(yi_test, model_iris.predict(Xi_test))\n",
    "\n",
    "print(f\"Dokładność na Wine (Random Forest): {acc_wine:.4f}\")\n",
    "print(f\"Dokładność na Iris (XGBoost): {acc_iris:.4f}\")\n"
   ]
  },
  {
   "cell_type": "markdown",
   "id": "117a8684",
   "metadata": {},
   "source": [
    "# 5. Wykres słupkowy porównujący dokładność"
   ]
  },
  {
   "cell_type": "code",
   "execution_count": 7,
   "id": "aeada02c",
   "metadata": {},
   "outputs": [
    {
     "data": {
      "image/png": "[encoded data removed]",
      "text/plain": [
       "<Figure size 1000x500 with 1 Axes>"
      ]
     },
     "metadata": {},
     "output_type": "display_data"
    }
   ],
   "source": [
    "import matplotlib.pyplot as plt\n",
    "\n",
    "labels = ['RF', 'XGB', 'Stacking', 'XGB (Tuned)', 'Stack+KNN', 'Wine RF', 'Iris XGB']\n",
    "scores = [acc_rf, acc_xgb, acc_stack, acc_best_xgb, acc_stack_knn, acc_wine, acc_iris]\n",
    "\n",
    "plt.figure(figsize=(10, 5))\n",
    "plt.bar(labels, scores, color='skyblue')\n",
    "plt.ylim(0.9, 1.0)\n",
    "plt.ylabel(\"Accuracy\")\n",
    "plt.title(\"Porównanie dokładności różnych modeli\")\n",
    "plt.grid(True, linestyle='--', alpha=0.6)\n",
    "plt.show()\n"
   ]
  }
 ],
 "metadata": {
  "kernelspec": {
   "display_name": "Python 3",
   "language": "python",
   "name": "python3"
  },
  "language_info": {
   "codemirror_mode": {
    "name": "ipython",
    "version": 3
   },
   "file_extension": ".py",
   "mimetype": "text/x-python",
   "name": "python",
   "nbconvert_exporter": "python",
   "pygments_lexer": "ipython3",
   "version": "3.12.8"
  }
 },
 "nbformat": 4,
 "nbformat_minor": 5
}
